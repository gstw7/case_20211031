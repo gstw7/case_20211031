{
 "cells": [
  {
   "cell_type": "code",
   "execution_count": 56,
   "id": "e5eb0435",
   "metadata": {},
   "outputs": [],
   "source": [
    "import os\n",
    "import warnings\n",
    "import numpy as np\n",
    "import pandas as pd\n",
    "import seaborn as sns\n",
    "import matplotlib.pyplot as plt\n",
    "from utils.dependencies import *\n",
    "\n",
    "%matplotlib inline\n",
    "warnings.filterwarnings(\"ignore\")"
   ]
  },
  {
   "cell_type": "code",
   "execution_count": 21,
   "id": "6f6017e1",
   "metadata": {},
   "outputs": [],
   "source": [
    "DATA_INTER_PATH = os.path.join('..', 'data', 'interim')\n",
    "DATA_PROCE_PATH = os.path.join('..', 'data', 'processed')\n",
    "IMG_PATH = os.path.join('..','reports', 'figures')\n",
    "DATA_INTER_NAME_2 = 'general_2.csv'\n",
    "DATA_PROCE_NAME = 'processed.csv'\n",
    "\n",
    "DATE_CHURN = pd.to_datetime('2018-08-01 00:00:00+00:00')"
   ]
  },
  {
   "cell_type": "code",
   "execution_count": 51,
   "id": "10354815",
   "metadata": {},
   "outputs": [
    {
     "data": {
      "text/html": [
       "<div>\n",
       "<style scoped>\n",
       "    .dataframe tbody tr th:only-of-type {\n",
       "        vertical-align: middle;\n",
       "    }\n",
       "\n",
       "    .dataframe tbody tr th {\n",
       "        vertical-align: top;\n",
       "    }\n",
       "\n",
       "    .dataframe thead th {\n",
       "        text-align: right;\n",
       "    }\n",
       "</style>\n",
       "<table border=\"1\" class=\"dataframe\">\n",
       "  <thead>\n",
       "    <tr style=\"text-align: right;\">\n",
       "      <th></th>\n",
       "      <th>customer_code</th>\n",
       "      <th>register_date</th>\n",
       "      <th>total_price</th>\n",
       "      <th>group_code</th>\n",
       "      <th>segment_code</th>\n",
       "      <th>last_purchase_date</th>\n",
       "      <th>is_churn</th>\n",
       "      <th>item_total_price</th>\n",
       "      <th>discount</th>\n",
       "    </tr>\n",
       "  </thead>\n",
       "  <tbody>\n",
       "    <tr>\n",
       "      <th>0</th>\n",
       "      <td>0</td>\n",
       "      <td>2008-09-23 00:00:00+00:00</td>\n",
       "      <td>4721.62</td>\n",
       "      <td>0</td>\n",
       "      <td>0</td>\n",
       "      <td>2018-06-08 00:00:00+00:00</td>\n",
       "      <td>0.0</td>\n",
       "      <td>5844.50</td>\n",
       "      <td>1</td>\n",
       "    </tr>\n",
       "    <tr>\n",
       "      <th>1</th>\n",
       "      <td>0</td>\n",
       "      <td>2009-05-06 00:00:00+00:00</td>\n",
       "      <td>2429.67</td>\n",
       "      <td>0</td>\n",
       "      <td>0</td>\n",
       "      <td>2018-06-08 00:00:00+00:00</td>\n",
       "      <td>0.0</td>\n",
       "      <td>2983.96</td>\n",
       "      <td>1</td>\n",
       "    </tr>\n",
       "  </tbody>\n",
       "</table>\n",
       "</div>"
      ],
      "text/plain": [
       "   customer_code             register_date  total_price  group_code  \\\n",
       "0              0 2008-09-23 00:00:00+00:00      4721.62           0   \n",
       "1              0 2009-05-06 00:00:00+00:00      2429.67           0   \n",
       "\n",
       "   segment_code        last_purchase_date  is_churn  item_total_price  \\\n",
       "0             0 2018-06-08 00:00:00+00:00       0.0           5844.50   \n",
       "1             0 2018-06-08 00:00:00+00:00       0.0           2983.96   \n",
       "\n",
       "   discount  \n",
       "0         1  \n",
       "1         1  "
      ]
     },
     "execution_count": 51,
     "metadata": {},
     "output_type": "execute_result"
    }
   ],
   "source": [
    "df_2 = pd.read_csv(os.path.join(DATA_INTER_PATH, DATA_INTER_NAME_2))\n",
    "\n",
    "df_2['register_date'] = pd.to_datetime(df_2['register_date'])\n",
    "df_2['last_purchase_date'] = pd.to_datetime(df_2['last_purchase_date'])\n",
    "df_2.head(2)"
   ]
  },
  {
   "cell_type": "code",
   "execution_count": 52,
   "id": "e7548799",
   "metadata": {},
   "outputs": [
    {
     "data": {
      "text/plain": [
       "array([ True])"
      ]
     },
     "execution_count": 52,
     "metadata": {},
     "output_type": "execute_result"
    }
   ],
   "source": [
    "df_3 = df_2\\\n",
    "    .drop('discount', axis=1)\\\n",
    "    .groupby(\n",
    "        by=[\n",
    "            'customer_code', \n",
    "            'group_code', \n",
    "            'segment_code', \n",
    "            'is_churn'\n",
    "        ], as_index=False)\\\n",
    "    .agg(\n",
    "        {\n",
    "            'register_date': 'max', \n",
    "            'total_price': 'sum',\n",
    "            'item_total_price': 'sum',\n",
    "            'last_purchase_date': 'max'\n",
    "        }\n",
    ")\n",
    "(df_3['last_purchase_date'] == df_3['register_date']).unique()"
   ]
  },
  {
   "cell_type": "code",
   "execution_count": 53,
   "id": "9362e3c3",
   "metadata": {},
   "outputs": [
    {
     "data": {
      "text/plain": [
       "0.0    737\n",
       "1.0     81\n",
       "Name: is_churn, dtype: int64"
      ]
     },
     "execution_count": 53,
     "metadata": {},
     "output_type": "execute_result"
    }
   ],
   "source": [
    "df_3.is_churn.value_counts()"
   ]
  },
  {
   "cell_type": "code",
   "execution_count": 57,
   "id": "3dbcdd54",
   "metadata": {},
   "outputs": [],
   "source": [
    "df_3['discount'] = df_3.apply(lambda x: discount(x.item_total_price, x.total_price), axis=1)"
   ]
  },
  {
   "cell_type": "code",
   "execution_count": 59,
   "id": "0786c97a",
   "metadata": {},
   "outputs": [
    {
     "data": {
      "text/plain": [
       "1    649\n",
       "0    169\n",
       "Name: discount, dtype: int64"
      ]
     },
     "execution_count": 59,
     "metadata": {},
     "output_type": "execute_result"
    }
   ],
   "source": [
    "df_3.discount.value_counts()"
   ]
  },
  {
   "cell_type": "code",
   "execution_count": 60,
   "id": "74a2a6b6",
   "metadata": {},
   "outputs": [],
   "source": [
    "df_3['qnt_days'] = DATE_CHURN - df_3.last_purchase_date\n",
    "df_3['qnt_days'] = df_3.apply(lambda x: x['qnt_days'].days, axis=1)\n",
    "df_3 = df_3[\n",
    "    [\n",
    "        'customer_code', 'group_code', 'segment_code', \n",
    "        'total_price', 'item_total_price', 'discount',\n",
    "        'last_purchase_date', 'qnt_days', 'is_churn'\n",
    "    ]\n",
    "]"
   ]
  },
  {
   "cell_type": "code",
   "execution_count": 61,
   "id": "1c886fe2",
   "metadata": {
    "scrolled": true
   },
   "outputs": [
    {
     "data": {
      "text/html": [
       "<div>\n",
       "<style scoped>\n",
       "    .dataframe tbody tr th:only-of-type {\n",
       "        vertical-align: middle;\n",
       "    }\n",
       "\n",
       "    .dataframe tbody tr th {\n",
       "        vertical-align: top;\n",
       "    }\n",
       "\n",
       "    .dataframe thead th {\n",
       "        text-align: right;\n",
       "    }\n",
       "</style>\n",
       "<table border=\"1\" class=\"dataframe\">\n",
       "  <thead>\n",
       "    <tr style=\"text-align: right;\">\n",
       "      <th></th>\n",
       "      <th>customer_code</th>\n",
       "      <th>group_code</th>\n",
       "      <th>segment_code</th>\n",
       "      <th>total_price</th>\n",
       "      <th>item_total_price</th>\n",
       "      <th>discount</th>\n",
       "      <th>last_purchase_date</th>\n",
       "      <th>qnt_days</th>\n",
       "      <th>is_churn</th>\n",
       "    </tr>\n",
       "  </thead>\n",
       "  <tbody>\n",
       "    <tr>\n",
       "      <th>0</th>\n",
       "      <td>0</td>\n",
       "      <td>0</td>\n",
       "      <td>0</td>\n",
       "      <td>74215.11</td>\n",
       "      <td>84322.67</td>\n",
       "      <td>1</td>\n",
       "      <td>2018-06-08 00:00:00+00:00</td>\n",
       "      <td>54</td>\n",
       "      <td>0.0</td>\n",
       "    </tr>\n",
       "  </tbody>\n",
       "</table>\n",
       "</div>"
      ],
      "text/plain": [
       "   customer_code  group_code  segment_code  total_price  item_total_price  \\\n",
       "0              0           0             0     74215.11          84322.67   \n",
       "\n",
       "   discount        last_purchase_date  qnt_days  is_churn  \n",
       "0         1 2018-06-08 00:00:00+00:00        54       0.0  "
      ]
     },
     "execution_count": 61,
     "metadata": {},
     "output_type": "execute_result"
    }
   ],
   "source": [
    "df_3.head(1)"
   ]
  },
  {
   "cell_type": "code",
   "execution_count": 62,
   "id": "fa49036e",
   "metadata": {
    "scrolled": true
   },
   "outputs": [
    {
     "data": {
      "image/png": "[encoded data removed]",
      "text/plain": [
       "<Figure size 1440x432 with 1 Axes>"
      ]
     },
     "metadata": {
      "needs_background": "light"
     },
     "output_type": "display_data"
    }
   ],
   "source": [
    "plt.figure(figsize=(20,6))\n",
    "corrmat = df_3.corr(method='spearman')\n",
    "sns.heatmap([corrmat['is_churn']], xticklabels = corrmat.index,\n",
    "            annot=True, fmt='.2f', annot_kws={'size': 14},\n",
    "            cbar=False, center=0)\n",
    "plt.title('Correlação pelo método de Spearman')\n",
    "\n",
    "plt.savefig(os.path.join(IMG_PATH,'corr-spearman.png'), format='png')\n",
    "plt.tight_layout()\n",
    "plt.show()"
   ]
  },
  {
   "cell_type": "code",
   "execution_count": 64,
   "id": "be977ea8",
   "metadata": {},
   "outputs": [],
   "source": [
    "df_3.to_csv(os.path.join(DATA_PROCE_PATH, DATA_PROCE_NAME), index=False)"
   ]
  },
  {
   "cell_type": "markdown",
   "id": "c2be2ad9",
   "metadata": {},
   "source": [
    "## Considerações\n",
    "\n",
    "1. Todas as features foram mantidas.\n",
    "2. A variável **discount** representa se o cliente teve algum tipo de desconto até **01 de Ago de 2018**;\n",
    "3. A variável **qnt_days** represemta quantos dias desde a sua ultima compra até **01 de Ago de 2018**."
   ]
  },
  {
   "cell_type": "code",
   "execution_count": null,
   "id": "04576840",
   "metadata": {},
   "outputs": [],
   "source": []
  }
 ],
 "metadata": {
  "kernelspec": {
   "display_name": "Python 3 (ipykernel)",
   "language": "python",
   "name": "python3"
  },
  "language_info": {
   "codemirror_mode": {
    "name": "ipython",
    "version": 3
   },
   "file_extension": ".py",
   "mimetype": "text/x-python",
   "name": "python",
   "nbconvert_exporter": "python",
   "pygments_lexer": "ipython3",
   "version": "3.8.10"
  }
 },
 "nbformat": 4,
 "nbformat_minor": 5
}
